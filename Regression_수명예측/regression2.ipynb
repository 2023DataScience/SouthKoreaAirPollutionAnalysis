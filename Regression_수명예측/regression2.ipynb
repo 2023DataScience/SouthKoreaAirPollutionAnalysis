{
 "cells": [
  {
   "cell_type": "code",
   "execution_count": 18,
   "metadata": {},
   "outputs": [
    {
     "name": "stdout",
     "output_type": "stream",
     "text": [
      "      지표연도 적용기간  성별       시도   시군구  평균 기대수명  보험료1분위  보험료2분위  보험료3분위  보험료4분위   \n",
      "0     2004   1년  전체       전국    전체    78.98   75.52   78.45   79.28   80.12  \\\n",
      "1     2004   1년  남성       전국    전체    75.37   71.09   74.77   75.71   76.98   \n",
      "2     2004   1년  여성       전국    전체    82.25   80.08   81.84   82.50   82.79   \n",
      "3     2005   1년  전체       전국    전체    79.42   75.78   79.04   79.57   80.70   \n",
      "4     2005   1년  남성       전국    전체    75.90   71.50   75.41   76.24   77.61   \n",
      "...    ...  ...  ..      ...   ...      ...     ...     ...     ...     ...   \n",
      "9877  2020   6년  남성  제주특별자치도   제주시    80.53   74.42   81.59   81.41   83.07   \n",
      "9878  2020   6년  여성  제주특별자치도   제주시    87.48   83.21   87.85   88.55   88.78   \n",
      "9879  2020   6년  전체  제주특별자치도  서귀포시    84.43   78.70   84.31   85.99   86.35   \n",
      "9880  2020   6년  남성  제주특별자치도  서귀포시    80.20   73.99   80.30   82.29   82.32   \n",
      "9881  2020   6년  여성  제주특별자치도  서귀포시    88.41   83.98   88.31   88.86   89.82   \n",
      "\n",
      "      보험료5분위  기대수명격차  \n",
      "0      82.03    6.50  \n",
      "1      79.18    8.08  \n",
      "2      84.22    4.13  \n",
      "3      82.57    6.79  \n",
      "4      79.71    8.21  \n",
      "...      ...     ...  \n",
      "9877   83.67    9.25  \n",
      "9878   90.27    7.06  \n",
      "9879   88.32    9.63  \n",
      "9880   83.84    9.86  \n",
      "9881   92.74    8.77  \n",
      "\n",
      "[9882 rows x 12 columns]\n"
     ]
    }
   ],
   "source": [
    "import pandas as pd\n",
    "import matplotlib.pyplot as plt\n",
    "import seaborn as sns\n",
    "from sklearn.preprocessing import MinMaxScaler\n",
    "\n",
    "\n",
    "# Try opening with utf-8 encoding\n",
    "try:\n",
    "    df = pd.read_csv('data/life_avg.csv', encoding='utf-8')\n",
    "except UnicodeDecodeError:\n",
    "    # If error, try with cp949 encoding\n",
    "    df = pd.read_csv('data/life_avg.csv', encoding='cp949')\n",
    "print(df)"
   ]
  },
  {
   "cell_type": "code",
   "execution_count": 19,
   "metadata": {},
   "outputs": [
    {
     "name": "stdout",
     "output_type": "stream",
     "text": [
      "      City  year District    AVG\n",
      "105    종로구  2015    서울특별시  83.95\n",
      "108    종로구  2016    서울특별시  84.26\n",
      "111    종로구  2017    서울특별시  84.75\n",
      "114    종로구  2018    서울특별시  84.90\n",
      "117    종로구  2019    서울특별시  85.31\n",
      "...    ...   ...      ...    ...\n",
      "9864   함양군  2020     경상남도  83.24\n",
      "9867   거창군  2020     경상남도  83.22\n",
      "9870   합천군  2020     경상남도  81.97\n",
      "9876   제주시  2020  제주특별자치도  84.36\n",
      "9879  서귀포시  2020  제주특별자치도  84.43\n",
      "\n",
      "[1516 rows x 4 columns]\n"
     ]
    }
   ],
   "source": [
    "df = df.rename(columns={'지표연도': 'year', '시군구': 'City', '시도':'District', '평균 기대수명' : 'AVG'})\n",
    "df = df[df['성별'] == '전체']\n",
    "df = df[['City', 'year', 'District', 'AVG']]\n",
    "df = df[df['City'] != '전체']\n",
    "df = df[(df['year'] >= 2015) & (df['year'] <= 2020)]\n",
    "\n",
    "print(df)\n",
    "#df.to_csv('AVG_City.csv', index=False)"
   ]
  },
  {
   "cell_type": "code",
   "execution_count": 20,
   "metadata": {},
   "outputs": [
    {
     "name": "stdout",
     "output_type": "stream",
     "text": [
      "       City  year District    AVG\n",
      "0       세종시  2015  세종특별자치시  82.34\n",
      "1       세종시  2016  세종특별자치시  82.83\n",
      "2       세종시  2017  세종특별자치시  83.27\n",
      "3       세종시  2018  세종특별자치시  83.44\n",
      "4       세종시  2019  세종특별자치시  83.86\n",
      "...     ...   ...      ...    ...\n",
      "1109  서울특별시  2016    서울특별시  84.21\n",
      "1110  서울특별시  2017    서울특별시  84.54\n",
      "1111  서울특별시  2018    서울특별시  84.82\n",
      "1112  서울특별시  2019    서울특별시  85.14\n",
      "1113  서울특별시  2020    서울특별시  85.41\n",
      "\n",
      "[1114 rows x 4 columns]\n"
     ]
    }
   ],
   "source": [
    "cities = ['부산광역시', '대구광역시', '인천광역시', '광주광역시', '대전광역시', '울산광역시', '서울특별시']\n",
    "\n",
    "for city in cities:\n",
    "    # 광역시의 평균값 계산\n",
    "    city_avg_df = df[df['District'] == city].groupby('year')['AVG'].mean().reset_index()\n",
    "\n",
    "    # 해당 광역시 행 삭제\n",
    "    df = df[df['District'] != city]\n",
    "\n",
    "    # 광역시 평균값 행 추가\n",
    "    for index, row in city_avg_df.iterrows():\n",
    "        new_row = pd.DataFrame({'City':city, 'year':row['year'], 'District':city, 'AVG':row['AVG']}, index=[0])\n",
    "        df = pd.concat([df, new_row], ignore_index=True)\n",
    "df['year'] = df['year'].astype(int)\n",
    "df['AVG'] = df['AVG'].round(2)\n",
    "\n",
    "print(df)\n",
    "df.to_csv('AVG_City3.csv', index=False)"
   ]
  },
  {
   "cell_type": "code",
   "execution_count": 21,
   "metadata": {},
   "outputs": [
    {
     "ename": "FileNotFoundError",
     "evalue": "[Errno 2] No such file or directory: 'data/AVG_City4.csv'",
     "output_type": "error",
     "traceback": [
      "\u001b[0;31m---------------------------------------------------------------------------\u001b[0m",
      "\u001b[0;31mFileNotFoundError\u001b[0m                         Traceback (most recent call last)",
      "Cell \u001b[0;32mIn[21], line 1\u001b[0m\n\u001b[0;32m----> 1\u001b[0m df3 \u001b[39m=\u001b[39m pd\u001b[39m.\u001b[39;49mread_csv(\u001b[39m'\u001b[39;49m\u001b[39mdata/AVG_City4.csv\u001b[39;49m\u001b[39m'\u001b[39;49m, encoding\u001b[39m=\u001b[39;49m\u001b[39m'\u001b[39;49m\u001b[39mutf-8\u001b[39;49m\u001b[39m'\u001b[39;49m)\n\u001b[1;32m      2\u001b[0m \u001b[39mimport\u001b[39;00m \u001b[39mnumpy\u001b[39;00m \u001b[39mas\u001b[39;00m \u001b[39mnp\u001b[39;00m\n\u001b[1;32m      4\u001b[0m \u001b[39m# City와 year이 전부 같은 행들을 찾고 AVG 컬럼의 평균값으로 대체\u001b[39;00m\n",
      "File \u001b[0;32m/Library/Frameworks/Python.framework/Versions/3.11/lib/python3.11/site-packages/pandas/io/parsers/readers.py:912\u001b[0m, in \u001b[0;36mread_csv\u001b[0;34m(filepath_or_buffer, sep, delimiter, header, names, index_col, usecols, dtype, engine, converters, true_values, false_values, skipinitialspace, skiprows, skipfooter, nrows, na_values, keep_default_na, na_filter, verbose, skip_blank_lines, parse_dates, infer_datetime_format, keep_date_col, date_parser, date_format, dayfirst, cache_dates, iterator, chunksize, compression, thousands, decimal, lineterminator, quotechar, quoting, doublequote, escapechar, comment, encoding, encoding_errors, dialect, on_bad_lines, delim_whitespace, low_memory, memory_map, float_precision, storage_options, dtype_backend)\u001b[0m\n\u001b[1;32m    899\u001b[0m kwds_defaults \u001b[39m=\u001b[39m _refine_defaults_read(\n\u001b[1;32m    900\u001b[0m     dialect,\n\u001b[1;32m    901\u001b[0m     delimiter,\n\u001b[0;32m   (...)\u001b[0m\n\u001b[1;32m    908\u001b[0m     dtype_backend\u001b[39m=\u001b[39mdtype_backend,\n\u001b[1;32m    909\u001b[0m )\n\u001b[1;32m    910\u001b[0m kwds\u001b[39m.\u001b[39mupdate(kwds_defaults)\n\u001b[0;32m--> 912\u001b[0m \u001b[39mreturn\u001b[39;00m _read(filepath_or_buffer, kwds)\n",
      "File \u001b[0;32m/Library/Frameworks/Python.framework/Versions/3.11/lib/python3.11/site-packages/pandas/io/parsers/readers.py:577\u001b[0m, in \u001b[0;36m_read\u001b[0;34m(filepath_or_buffer, kwds)\u001b[0m\n\u001b[1;32m    574\u001b[0m _validate_names(kwds\u001b[39m.\u001b[39mget(\u001b[39m\"\u001b[39m\u001b[39mnames\u001b[39m\u001b[39m\"\u001b[39m, \u001b[39mNone\u001b[39;00m))\n\u001b[1;32m    576\u001b[0m \u001b[39m# Create the parser.\u001b[39;00m\n\u001b[0;32m--> 577\u001b[0m parser \u001b[39m=\u001b[39m TextFileReader(filepath_or_buffer, \u001b[39m*\u001b[39;49m\u001b[39m*\u001b[39;49mkwds)\n\u001b[1;32m    579\u001b[0m \u001b[39mif\u001b[39;00m chunksize \u001b[39mor\u001b[39;00m iterator:\n\u001b[1;32m    580\u001b[0m     \u001b[39mreturn\u001b[39;00m parser\n",
      "File \u001b[0;32m/Library/Frameworks/Python.framework/Versions/3.11/lib/python3.11/site-packages/pandas/io/parsers/readers.py:1407\u001b[0m, in \u001b[0;36mTextFileReader.__init__\u001b[0;34m(self, f, engine, **kwds)\u001b[0m\n\u001b[1;32m   1404\u001b[0m     \u001b[39mself\u001b[39m\u001b[39m.\u001b[39moptions[\u001b[39m\"\u001b[39m\u001b[39mhas_index_names\u001b[39m\u001b[39m\"\u001b[39m] \u001b[39m=\u001b[39m kwds[\u001b[39m\"\u001b[39m\u001b[39mhas_index_names\u001b[39m\u001b[39m\"\u001b[39m]\n\u001b[1;32m   1406\u001b[0m \u001b[39mself\u001b[39m\u001b[39m.\u001b[39mhandles: IOHandles \u001b[39m|\u001b[39m \u001b[39mNone\u001b[39;00m \u001b[39m=\u001b[39m \u001b[39mNone\u001b[39;00m\n\u001b[0;32m-> 1407\u001b[0m \u001b[39mself\u001b[39m\u001b[39m.\u001b[39m_engine \u001b[39m=\u001b[39m \u001b[39mself\u001b[39;49m\u001b[39m.\u001b[39;49m_make_engine(f, \u001b[39mself\u001b[39;49m\u001b[39m.\u001b[39;49mengine)\n",
      "File \u001b[0;32m/Library/Frameworks/Python.framework/Versions/3.11/lib/python3.11/site-packages/pandas/io/parsers/readers.py:1661\u001b[0m, in \u001b[0;36mTextFileReader._make_engine\u001b[0;34m(self, f, engine)\u001b[0m\n\u001b[1;32m   1659\u001b[0m     \u001b[39mif\u001b[39;00m \u001b[39m\"\u001b[39m\u001b[39mb\u001b[39m\u001b[39m\"\u001b[39m \u001b[39mnot\u001b[39;00m \u001b[39min\u001b[39;00m mode:\n\u001b[1;32m   1660\u001b[0m         mode \u001b[39m+\u001b[39m\u001b[39m=\u001b[39m \u001b[39m\"\u001b[39m\u001b[39mb\u001b[39m\u001b[39m\"\u001b[39m\n\u001b[0;32m-> 1661\u001b[0m \u001b[39mself\u001b[39m\u001b[39m.\u001b[39mhandles \u001b[39m=\u001b[39m get_handle(\n\u001b[1;32m   1662\u001b[0m     f,\n\u001b[1;32m   1663\u001b[0m     mode,\n\u001b[1;32m   1664\u001b[0m     encoding\u001b[39m=\u001b[39;49m\u001b[39mself\u001b[39;49m\u001b[39m.\u001b[39;49moptions\u001b[39m.\u001b[39;49mget(\u001b[39m\"\u001b[39;49m\u001b[39mencoding\u001b[39;49m\u001b[39m\"\u001b[39;49m, \u001b[39mNone\u001b[39;49;00m),\n\u001b[1;32m   1665\u001b[0m     compression\u001b[39m=\u001b[39;49m\u001b[39mself\u001b[39;49m\u001b[39m.\u001b[39;49moptions\u001b[39m.\u001b[39;49mget(\u001b[39m\"\u001b[39;49m\u001b[39mcompression\u001b[39;49m\u001b[39m\"\u001b[39;49m, \u001b[39mNone\u001b[39;49;00m),\n\u001b[1;32m   1666\u001b[0m     memory_map\u001b[39m=\u001b[39;49m\u001b[39mself\u001b[39;49m\u001b[39m.\u001b[39;49moptions\u001b[39m.\u001b[39;49mget(\u001b[39m\"\u001b[39;49m\u001b[39mmemory_map\u001b[39;49m\u001b[39m\"\u001b[39;49m, \u001b[39mFalse\u001b[39;49;00m),\n\u001b[1;32m   1667\u001b[0m     is_text\u001b[39m=\u001b[39;49mis_text,\n\u001b[1;32m   1668\u001b[0m     errors\u001b[39m=\u001b[39;49m\u001b[39mself\u001b[39;49m\u001b[39m.\u001b[39;49moptions\u001b[39m.\u001b[39;49mget(\u001b[39m\"\u001b[39;49m\u001b[39mencoding_errors\u001b[39;49m\u001b[39m\"\u001b[39;49m, \u001b[39m\"\u001b[39;49m\u001b[39mstrict\u001b[39;49m\u001b[39m\"\u001b[39;49m),\n\u001b[1;32m   1669\u001b[0m     storage_options\u001b[39m=\u001b[39;49m\u001b[39mself\u001b[39;49m\u001b[39m.\u001b[39;49moptions\u001b[39m.\u001b[39;49mget(\u001b[39m\"\u001b[39;49m\u001b[39mstorage_options\u001b[39;49m\u001b[39m\"\u001b[39;49m, \u001b[39mNone\u001b[39;49;00m),\n\u001b[1;32m   1670\u001b[0m )\n\u001b[1;32m   1671\u001b[0m \u001b[39massert\u001b[39;00m \u001b[39mself\u001b[39m\u001b[39m.\u001b[39mhandles \u001b[39mis\u001b[39;00m \u001b[39mnot\u001b[39;00m \u001b[39mNone\u001b[39;00m\n\u001b[1;32m   1672\u001b[0m f \u001b[39m=\u001b[39m \u001b[39mself\u001b[39m\u001b[39m.\u001b[39mhandles\u001b[39m.\u001b[39mhandle\n",
      "File \u001b[0;32m/Library/Frameworks/Python.framework/Versions/3.11/lib/python3.11/site-packages/pandas/io/common.py:868\u001b[0m, in \u001b[0;36mget_handle\u001b[0;34m(path_or_buf, mode, encoding, compression, memory_map, is_text, errors, storage_options)\u001b[0m\n\u001b[1;32m    859\u001b[0m         handle \u001b[39m=\u001b[39m \u001b[39mopen\u001b[39m(\n\u001b[1;32m    860\u001b[0m             handle,\n\u001b[1;32m    861\u001b[0m             ioargs\u001b[39m.\u001b[39mmode,\n\u001b[0;32m   (...)\u001b[0m\n\u001b[1;32m    864\u001b[0m             newline\u001b[39m=\u001b[39m\u001b[39m\"\u001b[39m\u001b[39m\"\u001b[39m,\n\u001b[1;32m    865\u001b[0m         )\n\u001b[1;32m    866\u001b[0m     \u001b[39melse\u001b[39;00m:\n\u001b[1;32m    867\u001b[0m         \u001b[39m# Binary mode\u001b[39;00m\n\u001b[0;32m--> 868\u001b[0m         handle \u001b[39m=\u001b[39m \u001b[39mopen\u001b[39m(handle, ioargs\u001b[39m.\u001b[39mmode)\n\u001b[1;32m    869\u001b[0m     handles\u001b[39m.\u001b[39mappend(handle)\n\u001b[1;32m    871\u001b[0m \u001b[39m# Convert BytesIO or file objects passed with an encoding\u001b[39;00m\n",
      "\u001b[0;31mFileNotFoundError\u001b[0m: [Errno 2] No such file or directory: 'data/AVG_City4.csv'"
     ]
    }
   ],
   "source": [
    "df3 = pd.read_csv('data/AVG_City4.csv', encoding='utf-8')\n",
    "import numpy as np\n",
    "\n",
    "# City와 year이 전부 같은 행들을 찾고 AVG 컬럼의 평균값으로 대체\n",
    "df2 = df3.groupby(['City', 'year']).agg({'District':'first', 'AVG':'mean'}).reset_index()\n",
    "\n",
    "print(df.to_string(index=False))"
   ]
  },
  {
   "cell_type": "code",
   "execution_count": 22,
   "metadata": {},
   "outputs": [
    {
     "name": "stdout",
     "output_type": "stream",
     "text": [
      "     District City  year    pm25    pm10    so2     o3    no2     co\n",
      "0         강원도   강릉  2015  19.750  48.583  0.004  0.030  0.012  0.467\n",
      "1         강원도   강릉  2016  27.250  47.250  0.003  0.030  0.014  0.483\n",
      "2         강원도   강릉  2017  24.667  43.667  0.003  0.031  0.012  0.425\n",
      "3         강원도   강릉  2018  19.500  35.000  0.003  0.034  0.013  0.325\n",
      "4         강원도   강릉  2019  18.091  35.455  0.002  0.037  0.012  0.309\n",
      "...       ...  ...   ...     ...     ...    ...    ...    ...    ...\n",
      "1299     충청북도   충주  2018  26.000  48.667  0.004  0.025  0.023  0.467\n",
      "1300     충청북도   충주  2019  27.083  44.167  0.003  0.026  0.022  0.517\n",
      "1301     충청북도   충주  2020  19.667  36.833  0.003  0.028  0.015  0.450\n",
      "1302     충청북도   충주  2021  18.000  36.250  0.002  0.030  0.014  0.458\n",
      "1303     충청북도   충주  2022  19.455  33.455  0.002  0.030  0.014  0.436\n",
      "\n",
      "[1304 rows x 9 columns]\n"
     ]
    }
   ],
   "source": [
    "df2 = pd.read_csv('data/pollute_year.csv', encoding='utf-8')\n",
    "\n",
    "print(df2)"
   ]
  },
  {
   "cell_type": "code",
   "execution_count": null,
   "metadata": {},
   "outputs": [
    {
     "name": "stdout",
     "output_type": "stream",
     "text": [
      "         City  year District    AVG\n",
      "0     세종특별자치시  2015  세종특별자치시  82.34\n",
      "1     세종특별자치시  2016  세종특별자치시  82.83\n",
      "2     세종특별자치시  2017  세종특별자치시  83.27\n",
      "3     세종특별자치시  2018  세종특별자치시  83.44\n",
      "4     세종특별자치시  2019  세종특별자치시  83.86\n",
      "...       ...   ...      ...    ...\n",
      "1103    서울특별시  2016    서울특별시  84.21\n",
      "1104    서울특별시  2017    서울특별시  84.54\n",
      "1105    서울특별시  2018    서울특별시  84.82\n",
      "1106    서울특별시  2019    서울특별시  85.14\n",
      "1107    서울특별시  2020    서울특별시  85.41\n",
      "\n",
      "[973 rows x 4 columns]\n"
     ]
    }
   ],
   "source": [
    "import pandas as pd\n",
    "\n",
    "df = pd.read_excel('data/AVG_Data_City.xlsx')\n",
    "\n",
    "\n",
    "df_grouped = df.groupby(['City', 'year']).agg({'AVG': 'mean', 'District': 'first'}).reset_index()\n",
    "\n",
    "df_final = pd.merge(df.drop('AVG', axis=1), df_grouped, on=['City', 'year', 'District'])\n",
    "\n",
    "\n",
    "df_final = df_final.drop_duplicates()\n",
    "df_final['AVG'] = df_final['AVG'].round(2)\n",
    "\n",
    "df_final.to_csv('UPDATED_AVG_Data.csv', index=False)\n",
    "print(df_final)"
   ]
  },
  {
   "cell_type": "code",
   "execution_count": null,
   "metadata": {},
   "outputs": [
    {
     "name": "stdout",
     "output_type": "stream",
     "text": [
      "     District City  year    pm25    pm10    so2     o3    no2     co    AVG\n",
      "0         강원도   강릉  2015  19.750  48.583  0.004  0.030  0.012  0.467  82.11\n",
      "1         강원도   강릉  2016  27.250  47.250  0.003  0.030  0.014  0.483  82.56\n",
      "2         강원도   강릉  2017  24.667  43.667  0.003  0.031  0.012  0.425  82.94\n",
      "3         강원도   강릉  2018  19.500  35.000  0.003  0.034  0.013  0.325  83.16\n",
      "4         강원도   강릉  2019  18.091  35.455  0.002  0.037  0.012  0.309  83.44\n",
      "...       ...  ...   ...     ...     ...    ...    ...    ...    ...    ...\n",
      "1297     충청북도   충주  2016  24.083  44.583  0.003  0.026  0.022  0.458  81.72\n",
      "1298     충청북도   충주  2017  26.250  44.500  0.003  0.028  0.022  0.450  81.97\n",
      "1299     충청북도   충주  2018  26.000  48.667  0.004  0.025  0.023  0.467  82.12\n",
      "1300     충청북도   충주  2019  27.083  44.167  0.003  0.026  0.022  0.517  82.49\n",
      "1301     충청북도   충주  2020  19.667  36.833  0.003  0.028  0.015  0.450  82.74\n",
      "\n",
      "[628 rows x 10 columns]\n"
     ]
    }
   ],
   "source": [
    "df_pollute = pd.read_csv('data/pollute_year.csv')\n",
    "merged_df = df_pollute.merge(df_final[['City', 'year', 'AVG']], on=['City', 'year'], how='left')\n",
    "merged_df['AVG'] = merged_df['AVG'].fillna(0)\n",
    "merged_df = merged_df.dropna()\n",
    "merged_df = merged_df.dropna().drop(merged_df[merged_df['AVG'] == 0.00].index)\n",
    "print(merged_df)\n",
    "merged_df.to_csv('pollution_life_without0.csv', index=False)\n"
   ]
  },
  {
   "cell_type": "code",
   "execution_count": 16,
   "metadata": {},
   "outputs": [
    {
     "name": "stdout",
     "output_type": "stream",
     "text": [
      "     District City  year    pm25    pm10    so2     o3    no2     co\n",
      "0         강원도   강릉  2015  19.750  48.583  0.004  0.030  0.012  0.467\n",
      "1         강원도   강릉  2016  27.250  47.250  0.003  0.030  0.014  0.483\n",
      "2         강원도   강릉  2017  24.667  43.667  0.003  0.031  0.012  0.425\n",
      "3         강원도   강릉  2018  19.500  35.000  0.003  0.034  0.013  0.325\n",
      "4         강원도   강릉  2019  18.091  35.455  0.002  0.037  0.012  0.309\n",
      "...       ...  ...   ...     ...     ...    ...    ...    ...    ...\n",
      "1299     충청북도   충주  2018  26.000  48.667  0.004  0.025  0.023  0.467\n",
      "1300     충청북도   충주  2019  27.083  44.167  0.003  0.026  0.022  0.517\n",
      "1301     충청북도   충주  2020  19.667  36.833  0.003  0.028  0.015  0.450\n",
      "1302     충청북도   충주  2021  18.000  36.250  0.002  0.030  0.014  0.458\n",
      "1303     충청북도   충주  2022  19.455  33.455  0.002  0.030  0.014  0.436\n",
      "\n",
      "[954 rows x 9 columns]\n",
      "District     object\n",
      "City         object\n",
      "year          int64\n",
      "pm25        float64\n",
      "pm10        float64\n",
      "so2         float64\n",
      "o3          float64\n",
      "no2         float64\n",
      "co          float64\n",
      "dtype: object\n"
     ]
    }
   ],
   "source": [
    "df_poll = pd.read_csv('data/pollute_year.csv')\n",
    "df_poll = df_poll.dropna()\n",
    "print(df_poll)\n",
    "print(df_poll.dtypes)"
   ]
  },
  {
   "cell_type": "code",
   "execution_count": 4,
   "metadata": {},
   "outputs": [
    {
     "name": "stdout",
     "output_type": "stream",
     "text": [
      "Linear Regression MSE: 0.012970093705496693, R2: 0.33629981770017936\n",
      "Multiple Regression MSE: 0.012970093705496693, R2: 0.33629981770017936\n"
     ]
    },
    {
     "data": {
      "image/png": "[encoded data removed]",
      "text/plain": [
       "<Figure size 640x480 with 2 Axes>"
      ]
     },
     "metadata": {},
     "output_type": "display_data"
    }
   ],
   "source": [
    "from sklearn.preprocessing import StandardScaler\n",
    "from sklearn.model_selection import train_test_split\n",
    "from sklearn.linear_model import LinearRegression\n",
    "from sklearn.metrics import mean_squared_error, r2_score\n",
    "from sklearn.preprocessing import MinMaxScaler\n",
    "import pandas as pd\n",
    "df = pd.read_csv('pollution_life_without0.csv')\n",
    "\n",
    "# 원-핫 인코딩\n",
    "encoded_df = pd.get_dummies(df, columns=['District'], dtype=int)\n",
    "\n",
    "\n",
    "# pollution min,max,avg 나눠서 해보기\n",
    "# level 나눠섯\n",
    "# 데이터 준비\n",
    "X = encoded_df[['pm25', 'pm10', 'o3', 'no2', 'co']]\n",
    "y = encoded_df['AVG']\n",
    "Districts = ['District_강원도', 'District_경기도',  'District_경상남도', 'District_경상북도', 'District_광주광역시',  'District_대구광역시',  'District_대전광역시',  'District_부산광역시',  'District_서울특별시', 'District_세종특별자치시',  'District_울산광역시',  'District_인천광역시',  'District_전라남도', \n",
    "             'District_전라북도',  'District_제주특별자치도',  'District_충청남도',  'District_충청북도'   ]\n",
    "\n",
    "# Standard Scaling for X\n",
    "scaler_x = StandardScaler()\n",
    "X_scaled = scaler_x.fit_transform(X)\n",
    "\n",
    "# Concatenate Districts with X_scaled\n",
    "X_scaled_with_districts = encoded_df[Districts].copy()\n",
    "X_scaled_with_districts[X.columns] = X_scaled\n",
    "\n",
    "# MinMax Scaling for y\n",
    "scaler_y = MinMaxScaler()\n",
    "y_scaled = scaler_y.fit_transform(y.values.reshape(-1,1))\n",
    "\n",
    "# Train/Test set 분리\n",
    "X_train, X_test, y_train, y_test = train_test_split(X_scaled_with_districts, y_scaled, test_size=0.3, random_state=0)\n",
    "\n",
    "# Linear Regression\n",
    "linear_model = LinearRegression()\n",
    "linear_model.fit(X_train, y_train)\n",
    "y_pred_linear = linear_model.predict(X_test)\n",
    "\n",
    "# Multiple Linear Regression\n",
    "multiple_model = LinearRegression()\n",
    "multiple_model.fit(X_train, y_train)\n",
    "y_pred_multiple = multiple_model.predict(X_test)\n",
    "\n",
    "# 성능 평가\n",
    "mse_linear = mean_squared_error(y_test, y_pred_linear)\n",
    "r2_linear = r2_score(y_test, y_pred_linear)\n",
    "\n",
    "mse_multiple = mean_squared_error(y_test, y_pred_multiple)\n",
    "r2_multiple = r2_score(y_test, y_pred_multiple)\n",
    "\n",
    "print(f\"Linear Regression MSE: {mse_linear}, R2: {r2_linear}\")\n",
    "print(f\"Multiple Regression MSE: {mse_multiple}, R2: {r2_multiple}\")\n",
    "\n",
    "import matplotlib.pyplot as plt\n",
    "import numpy as np\n",
    "\n",
    "# Scatter plot for Linear Regression\n",
    "plt.subplot(1, 2, 1)\n",
    "plt.scatter(y_test, y_pred_linear)\n",
    "plt.xlabel(\"True Values\")\n",
    "plt.ylabel(\"Predictions\")\n",
    "plt.title(\"Linear Regression\")\n",
    "plt.plot([0, 1], [0, 1], color='red')\n",
    "\n",
    "# Scatter plot for Multiple Regression\n",
    "plt.subplot(1, 2, 2)\n",
    "plt.scatter(y_test, y_pred_multiple)\n",
    "plt.xlabel(\"True Values\")\n",
    "plt.ylabel(\"Predictions\")\n",
    "plt.title(\"Multiple Regression\")\n",
    "plt.plot([0, 1], [0, 1], color='red')\n",
    "\n",
    "plt.tight_layout()\n",
    "plt.show()\n"
   ]
  }
 ],
 "metadata": {
  "kernelspec": {
   "display_name": "Python 3",
   "language": "python",
   "name": "python3"
  },
  "language_info": {
   "codemirror_mode": {
    "name": "ipython",
    "version": 3
   },
   "file_extension": ".py",
   "mimetype": "text/x-python",
   "name": "python",
   "nbconvert_exporter": "python",
   "pygments_lexer": "ipython3",
   "version": "3.11.2"
  },
  "orig_nbformat": 4
 },
 "nbformat": 4,
 "nbformat_minor": 2
}
