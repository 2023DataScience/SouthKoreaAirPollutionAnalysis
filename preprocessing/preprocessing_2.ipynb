{
 "cells": [
  {
   "attachments": {},
   "cell_type": "markdown",
   "metadata": {},
   "source": [
    "preprocessing: data reduction\n"
   ]
  },
  {
   "cell_type": "code",
   "execution_count": 4,
   "metadata": {},
   "outputs": [
    {
     "name": "stdout",
     "output_type": "stream",
     "text": [
      "              year         pm25         pm10          so2           o3   \n",
      "count  1777.000000  1777.000000  1777.000000  1777.000000  1777.000000  \\\n",
      "mean   2016.493528    24.670608    43.588943     0.004057     0.028406   \n",
      "std       2.718200     4.822813     8.526077     0.001287     0.004389   \n",
      "min    2010.000000    11.417000    19.750000     0.001000     0.012000   \n",
      "25%    2015.000000    21.417000    37.967000     0.003000     0.026000   \n",
      "50%    2017.000000    24.625000    43.417000     0.004000     0.028000   \n",
      "75%    2019.000000    27.900000    48.417000     0.005000     0.031000   \n",
      "max    2020.000000    50.290000    95.750000     0.011000     0.046000   \n",
      "\n",
      "               no2           co          AVG  \n",
      "count  1777.000000  1777.000000  1777.000000  \n",
      "mean      0.018295     0.484762    82.295980  \n",
      "std       0.006707     0.086962     1.300993  \n",
      "min       0.005000     0.233000    78.410000  \n",
      "25%       0.014000     0.433000    81.400000  \n",
      "50%       0.017000     0.479000    82.270000  \n",
      "75%       0.022000     0.539000    83.090000  \n",
      "max       0.039000     0.850000    87.010000  \n",
      "<class 'pandas.core.frame.DataFrame'>\n",
      "RangeIndex: 1777 entries, 0 to 1776\n",
      "Data columns (total 10 columns):\n",
      " #   Column    Non-Null Count  Dtype  \n",
      "---  ------    --------------  -----  \n",
      " 0   District  1777 non-null   object \n",
      " 1   City      1777 non-null   object \n",
      " 2   year      1777 non-null   int64  \n",
      " 3   pm25      1777 non-null   float64\n",
      " 4   pm10      1777 non-null   float64\n",
      " 5   so2       1777 non-null   float64\n",
      " 6   o3        1777 non-null   float64\n",
      " 7   no2       1777 non-null   float64\n",
      " 8   co        1777 non-null   float64\n",
      " 9   AVG       1777 non-null   float64\n",
      "dtypes: float64(7), int64(1), object(2)\n",
      "memory usage: 139.0+ KB\n"
     ]
    }
   ],
   "source": [
    "### 수명 data 정리\n",
    "import pandas as pd\n",
    "import numpy as np\n",
    "\n",
    "# Try opening with utf-8 encoding\n",
    "try:\n",
    "    df = pd.read_csv('data/life_avg.csv', encoding='utf-8')\n",
    "except UnicodeDecodeError:\n",
    "    # If error, try with cp949 encoding\n",
    "    df = pd.read_csv('data/life_avg.csv', encoding='cp949')\n",
    "\n",
    "#2010~2020년 data만\n",
    "df = df.rename(columns={'지표연도': 'year', '시군구': 'City', '시도':'District', '평균 기대수명' : 'AVG'})\n",
    "df = df[df['성별'] == '전체']\n",
    "df = df[['City', 'year', 'District', 'AVG']]\n",
    "df = df[df['City'] != '전체']\n",
    "df = df[(df['year'] >= 2010) & (df['year'] <= 2020)]\n",
    "df2 = pd.read_csv('data/semifinaldata_4.csv', encoding='utf-8') \n",
    "print(df2.describe())\n",
    "df2.info()"
   ]
  },
  {
   "cell_type": "code",
   "execution_count": 4,
   "metadata": {},
   "outputs": [
    {
     "name": "stdout",
     "output_type": "stream",
     "text": [
      "         City  year District    AVG\n",
      "0      수원시장안구  2010      경기도  81.54\n",
      "1      수원시장안구  2011      경기도  81.93\n",
      "2      수원시장안구  2012      경기도  82.00\n",
      "3      수원시장안구  2013      경기도  82.13\n",
      "4      수원시장안구  2014      경기도  82.43\n",
      "...       ...   ...      ...    ...\n",
      "2051  세종특별자치시  2016  세종특별자치시  82.83\n",
      "2052  세종특별자치시  2017  세종특별자치시  83.27\n",
      "2053  세종특별자치시  2018  세종특별자치시  83.44\n",
      "2054  세종특별자치시  2019  세종특별자치시  83.86\n",
      "2055  세종특별자치시  2020  세종특별자치시  84.38\n",
      "\n",
      "[2056 rows x 4 columns]\n"
     ]
    }
   ],
   "source": [
    "cities = ['부산광역시', '대구광역시', '인천광역시', '광주광역시', '대전광역시', '울산광역시', '서울특별시','세종특별자치시']\n",
    "\n",
    "for city in cities:\n",
    "    # 광역시의 average\n",
    "    city_avg_df = df[df['District'] == city].groupby('year')['AVG'].mean().reset_index()\n",
    "\n",
    "    # 해당 광역시 행 삭제\n",
    "    df = df[df['District'] != city]\n",
    "\n",
    "    # 광역시 평균값 행 추가\n",
    "    for index, row in city_avg_df.iterrows():\n",
    "        new_row = pd.DataFrame({'City':city, 'year':row['year'], 'District':city, 'AVG':row['AVG']}, index=[0])\n",
    "        df = pd.concat([df, new_row], ignore_index=True)\n",
    "df['year'] = df['year'].astype(int)\n",
    "df['AVG'] = df['AVG'].round(2)\n",
    "\n",
    "print(df)"
   ]
  },
  {
   "attachments": {},
   "cell_type": "markdown",
   "metadata": {},
   "source": [
    "preprocessing: Cleaning Dirty data"
   ]
  },
  {
   "cell_type": "code",
   "execution_count": 5,
   "metadata": {},
   "outputs": [
    {
     "name": "stdout",
     "output_type": "stream",
     "text": [
      "         City  year District    AVG\n",
      "0          수원  2010      경기도  81.54\n",
      "1          수원  2011      경기도  81.93\n",
      "2          수원  2012      경기도  82.00\n",
      "3          수원  2013      경기도  82.13\n",
      "4          수원  2014      경기도  82.43\n",
      "...       ...   ...      ...    ...\n",
      "2051  세종특별자치시  2016  세종특별자치시  82.83\n",
      "2052  세종특별자치시  2017  세종특별자치시  83.27\n",
      "2053  세종특별자치시  2018  세종특별자치시  83.44\n",
      "2054  세종특별자치시  2019  세종특별자치시  83.86\n",
      "2055  세종특별자치시  2020  세종특별자치시  84.38\n",
      "\n",
      "[2056 rows x 4 columns]\n",
      "City         object\n",
      "year          int64\n",
      "District     object\n",
      "AVG         float64\n",
      "dtype: object\n"
     ]
    }
   ],
   "source": [
    "# 광역시/특별시/특별자치시를 제외하고 뒤에서부터 '시'가 나올때까지 지움\n",
    "excluded_cities = ['부산광역시', '대구광역시', '인천광역시', '광주광역시', '대전광역시', '울산광역시', '서울특별시','세종특별자치시']\n",
    "\n",
    "def remove_suffix(city):\n",
    "    if city in excluded_cities:\n",
    "        return city\n",
    "    else:\n",
    "        idx = city.rfind('시')\n",
    "        if idx != -1:\n",
    "            return city[:idx]\n",
    "        else:\n",
    "            return city\n",
    "\n",
    "df['City'] = df['City'].apply(remove_suffix)\n",
    "\n",
    "print(df)\n",
    "print(df.dtypes)\n",
    "df.to_csv('test.csv')"
   ]
  },
  {
   "attachments": {},
   "cell_type": "markdown",
   "metadata": {},
   "source": [
    "preprocessing: Table Merge"
   ]
  },
  {
   "cell_type": "code",
   "execution_count": 20,
   "metadata": {},
   "outputs": [
    {
     "name": "stdout",
     "output_type": "stream",
     "text": [
      "      District City  year pm25  pm10    so2     o3    no2   co    AVG\n",
      "0          강원도   강릉  2010  NaN  48.0  0.007  0.024   0.02  0.6  79.83\n",
      "1          강원도   강릉  2010  NaN    51  0.006  0.022  0.022  0.6  79.83\n",
      "2          강원도   강릉  2010  NaN  62.0  0.006  0.028   0.02  0.5  79.83\n",
      "3          강원도   강릉  2010  NaN    51  0.006  0.036   0.02  0.5  79.83\n",
      "4          강원도   강릉  2010  NaN    51  0.004  0.044  0.017  0.4  79.83\n",
      "...        ...  ...   ...  ...   ...    ...    ...    ...  ...    ...\n",
      "13867     충청북도   충주  2020   13    21  0.002  0.021  0.009  0.3  82.74\n",
      "13868     충청북도   충주  2020   11    20  0.003  0.028  0.011  0.4  82.74\n",
      "13869     충청북도   충주  2020   23    42  0.003  0.019  0.019  0.5  82.74\n",
      "13870     충청북도   충주  2020   28    44  0.003  0.016  0.023  0.6  82.74\n",
      "13871     충청북도   충주  2020  NaN    35  0.003  0.023  0.015  0.4  82.74\n",
      "\n",
      "[13872 rows x 10 columns]\n"
     ]
    }
   ],
   "source": [
    "##pollution data랑 합치기\n",
    "df_pollute = pd.read_csv('pollution_final.csv')\n",
    "df_pollute['year'] = df_pollute['date'].astype(str).str[:4] # 문자열로 변환해서 year 추출\n",
    "df_pollute.drop('date', axis=1, inplace=True)\n",
    "df_pollute['year'] = df_pollute['year'].astype(int) # 다시 int로 바꿔서 합칠 준비\n",
    "\n",
    "# city와 year이 일치하는 행들만 남기기\n",
    "merged_df = df_pollute.merge(df[['City', 'year', 'AVG']], on=['City', 'year'], how='inner')\n",
    "\n",
    "# avg에 결측치가 있는 행 제거하기\n",
    "merged_df = merged_df.dropna(subset=['AVG'])\n",
    "\n",
    "#column 재배치하고 index number 정리\n",
    "merged_df = merged_df[['District', 'City', 'year', 'pm25', 'pm10', 'so2', 'o3', 'no2', 'co', 'AVG']]\n",
    "merged_df = merged_df.reset_index(drop=True)\n",
    "\n",
    "print(merged_df)\n",
    "merged_df.to_csv('pollution_avg_final.csv')"
   ]
  }
 ],
 "metadata": {
  "kernelspec": {
   "display_name": "base",
   "language": "python",
   "name": "python3"
  },
  "language_info": {
   "codemirror_mode": {
    "name": "ipython",
    "version": 3
   },
   "file_extension": ".py",
   "mimetype": "text/x-python",
   "name": "python",
   "nbconvert_exporter": "python",
   "pygments_lexer": "ipython3",
   "version": "3.11.2"
  },
  "orig_nbformat": 4
 },
 "nbformat": 4,
 "nbformat_minor": 2
}
