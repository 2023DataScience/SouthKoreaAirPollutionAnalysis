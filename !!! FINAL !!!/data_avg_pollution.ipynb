{
 "cells": [
  {
   "cell_type": "code",
   "execution_count": 17,
   "metadata": {},
   "outputs": [
    {
     "name": "stdout",
     "output_type": "stream",
     "text": [
      "      City  year District    AVG\n",
      "90     종로구  2010    서울특별시  82.25\n",
      "93     종로구  2011    서울특별시  82.76\n",
      "96     종로구  2012    서울특별시  82.93\n",
      "99     종로구  2013    서울특별시  83.35\n",
      "102    종로구  2014    서울특별시  83.66\n",
      "...    ...   ...      ...    ...\n",
      "9864   함양군  2020     경상남도  83.24\n",
      "9867   거창군  2020     경상남도  83.22\n",
      "9870   합천군  2020     경상남도  81.97\n",
      "9876   제주시  2020  제주특별자치도  84.36\n",
      "9879  서귀포시  2020  제주특별자치도  84.43\n",
      "\n",
      "[2793 rows x 4 columns]\n"
     ]
    }
   ],
   "source": [
    "### 수명 data 정리\n",
    "import pandas as pd\n",
    "import numpy as np\n",
    "\n",
    "# Try opening with utf-8 encoding\n",
    "try:\n",
    "    df = pd.read_csv('life_avg.csv', encoding='utf-8')\n",
    "except UnicodeDecodeError:\n",
    "    # If error, try with cp949 encoding\n",
    "    df = pd.read_csv('life_avg.csv', encoding='cp949')\n",
    "\n",
    "#2010~2020년 data만\n",
    "df = df.rename(columns={'지표연도': 'year', '시군구': 'City', '시도':'District', '평균 기대수명' : 'AVG'})\n",
    "df = df[df['성별'] == '전체']\n",
    "df = df[['City', 'year', 'District', 'AVG']]\n",
    "df = df[df['City'] != '전체']\n",
    "df = df[(df['year'] >= 2010) & (df['year'] <= 2020)]\n",
    "\n",
    "print(df)"
   ]
  },
  {
   "cell_type": "code",
   "execution_count": 18,
   "metadata": {},
   "outputs": [
    {
     "name": "stdout",
     "output_type": "stream",
     "text": [
      "         City  year District    AVG\n",
      "0      수원시장안구  2010      경기도  81.54\n",
      "1      수원시장안구  2011      경기도  81.93\n",
      "2      수원시장안구  2012      경기도  82.00\n",
      "3      수원시장안구  2013      경기도  82.13\n",
      "4      수원시장안구  2014      경기도  82.43\n",
      "...       ...   ...      ...    ...\n",
      "2051  세종특별자치시  2016  세종특별자치시  82.83\n",
      "2052  세종특별자치시  2017  세종특별자치시  83.27\n",
      "2053  세종특별자치시  2018  세종특별자치시  83.44\n",
      "2054  세종특별자치시  2019  세종특별자치시  83.86\n",
      "2055  세종특별자치시  2020  세종특별자치시  84.38\n",
      "\n",
      "[2056 rows x 4 columns]\n"
     ]
    }
   ],
   "source": [
    "cities = ['부산광역시', '대구광역시', '인천광역시', '광주광역시', '대전광역시', '울산광역시', '서울특별시','세종특별자치시']\n",
    "\n",
    "for city in cities:\n",
    "    # 광역시의 평균값 계산\n",
    "    city_avg_df = df[df['District'] == city].groupby('year')['AVG'].mean().reset_index()\n",
    "\n",
    "    # 해당 광역시 행 삭제\n",
    "    df = df[df['District'] != city]\n",
    "\n",
    "    # 광역시 평균값 행 추가\n",
    "    for index, row in city_avg_df.iterrows():\n",
    "        new_row = pd.DataFrame({'City':city, 'year':row['year'], 'District':city, 'AVG':row['AVG']}, index=[0])\n",
    "        df = pd.concat([df, new_row], ignore_index=True)\n",
    "df['year'] = df['year'].astype(int)\n",
    "df['AVG'] = df['AVG'].round(2)\n",
    "\n",
    "print(df)"
   ]
  },
  {
   "cell_type": "code",
   "execution_count": 19,
   "metadata": {},
   "outputs": [
    {
     "name": "stdout",
     "output_type": "stream",
     "text": [
      "         City  year District    AVG\n",
      "0          수원  2010      경기도  81.54\n",
      "1          수원  2011      경기도  81.93\n",
      "2          수원  2012      경기도  82.00\n",
      "3          수원  2013      경기도  82.13\n",
      "4          수원  2014      경기도  82.43\n",
      "...       ...   ...      ...    ...\n",
      "2051  세종특별자치시  2016  세종특별자치시  82.83\n",
      "2052  세종특별자치시  2017  세종특별자치시  83.27\n",
      "2053  세종특별자치시  2018  세종특별자치시  83.44\n",
      "2054  세종특별자치시  2019  세종특별자치시  83.86\n",
      "2055  세종특별자치시  2020  세종특별자치시  84.38\n",
      "\n",
      "[2056 rows x 4 columns]\n",
      "City         object\n",
      "year          int32\n",
      "District     object\n",
      "AVG         float64\n",
      "dtype: object\n"
     ]
    }
   ],
   "source": [
    "# 광역시/특별시/특별자치시를 제외하고 뒤에서부터 '시'가 나올때까지 지움\n",
    "excluded_cities = ['부산광역시', '대구광역시', '인천광역시', '광주광역시', '대전광역시', '울산광역시', '서울특별시','세종특별자치시']\n",
    "\n",
    "def remove_suffix(city):\n",
    "    if city in excluded_cities:\n",
    "        return city\n",
    "    else:\n",
    "        idx = city.rfind('시')\n",
    "        if idx != -1:\n",
    "            return city[:idx]\n",
    "        else:\n",
    "            return city\n",
    "\n",
    "df['City'] = df['City'].apply(remove_suffix)\n",
    "\n",
    "print(df)\n",
    "print(df.dtypes)\n",
    "df.to_csv('test.csv')"
   ]
  },
  {
   "cell_type": "code",
   "execution_count": 20,
   "metadata": {},
   "outputs": [
    {
     "name": "stdout",
     "output_type": "stream",
     "text": [
      "      District City  year pm25  pm10    so2     o3    no2   co    AVG\n",
      "0          강원도   강릉  2010  NaN  48.0  0.007  0.024   0.02  0.6  79.83\n",
      "1          강원도   강릉  2010  NaN    51  0.006  0.022  0.022  0.6  79.83\n",
      "2          강원도   강릉  2010  NaN  62.0  0.006  0.028   0.02  0.5  79.83\n",
      "3          강원도   강릉  2010  NaN    51  0.006  0.036   0.02  0.5  79.83\n",
      "4          강원도   강릉  2010  NaN    51  0.004  0.044  0.017  0.4  79.83\n",
      "...        ...  ...   ...  ...   ...    ...    ...    ...  ...    ...\n",
      "13867     충청북도   충주  2020   13    21  0.002  0.021  0.009  0.3  82.74\n",
      "13868     충청북도   충주  2020   11    20  0.003  0.028  0.011  0.4  82.74\n",
      "13869     충청북도   충주  2020   23    42  0.003  0.019  0.019  0.5  82.74\n",
      "13870     충청북도   충주  2020   28    44  0.003  0.016  0.023  0.6  82.74\n",
      "13871     충청북도   충주  2020  NaN    35  0.003  0.023  0.015  0.4  82.74\n",
      "\n",
      "[13872 rows x 10 columns]\n"
     ]
    }
   ],
   "source": [
    "##pollution data랑 합치기\n",
    "df_pollute = pd.read_csv('pollution_final.csv')\n",
    "df_pollute['year'] = df_pollute['date'].astype(str).str[:4] # 문자열로 변환해서 year 추출\n",
    "df_pollute.drop('date', axis=1, inplace=True)\n",
    "df_pollute['year'] = df_pollute['year'].astype(int) # 다시 int로 바꿔서 합칠 준비\n",
    "\n",
    "# city와 year이 일치하는 행들만 남기기\n",
    "merged_df = df_pollute.merge(df[['City', 'year', 'AVG']], on=['City', 'year'], how='inner')\n",
    "\n",
    "# avg에 결측치가 있는 행 제거하기\n",
    "merged_df = merged_df.dropna(subset=['AVG'])\n",
    "\n",
    "#column 재배치하고 index number 정리\n",
    "merged_df = merged_df[['District', 'City', 'year', 'pm25', 'pm10', 'so2', 'o3', 'no2', 'co', 'AVG']]\n",
    "merged_df = merged_df.reset_index(drop=True)\n",
    "\n",
    "print(merged_df)\n",
    "merged_df.to_csv('pollution_avg_final.csv')"
   ]
  }
 ],
 "metadata": {
  "kernelspec": {
   "display_name": "base",
   "language": "python",
   "name": "python3"
  },
  "language_info": {
   "codemirror_mode": {
    "name": "ipython",
    "version": 3
   },
   "file_extension": ".py",
   "mimetype": "text/x-python",
   "name": "python",
   "nbconvert_exporter": "python",
   "pygments_lexer": "ipython3",
   "version": "3.9.13"
  },
  "orig_nbformat": 4
 },
 "nbformat": 4,
 "nbformat_minor": 2
}
